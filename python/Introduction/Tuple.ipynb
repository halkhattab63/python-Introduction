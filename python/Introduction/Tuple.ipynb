{
 "cells": [
  {
   "cell_type": "code",
   "execution_count": null,
   "metadata": {},
   "outputs": [],
   "source": [
    "a = ()\n",
    "b = (2,3)\n",
    "c = 5, 6, 7\n",
    "\n",
    "print(len(c))\n",
    "\n",
    "c.count(5)\n",
    "c.index(6)\n",
    "print(c[0])"
   ]
  }
 ],
 "metadata": {
  "language_info": {
   "name": "python"
  },
  "orig_nbformat": 4
 },
 "nbformat": 4,
 "nbformat_minor": 2
}
