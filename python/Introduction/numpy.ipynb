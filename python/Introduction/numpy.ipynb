{
 "cells": [
  {
   "cell_type": "code",
   "execution_count": null,
   "metadata": {},
   "outputs": [],
   "source": [
    "! pip install numpy "
   ]
  },
  {
   "cell_type": "code",
   "execution_count": null,
   "metadata": {},
   "outputs": [],
   "source": [
    "import numpy as np\n",
    "import time \n",
    "\n",
    "\n",
    "def desceibe(ar):\n",
    "  print(f'dimension  :{arr.ndim}')\n",
    "  print(f'shape : {arr.size}')\n",
    "  print(f'size : {arr.shape}')\n",
    "  print(f'dtype  :{arr.dtype}')\n",
    "\n",
    "list1 = [1,2,3]\n",
    "list2 = [4,5,6]\n",
    "arr = np.array((1,2,3,4))\n",
    "arr2 = np.array([list1 , list2, list1], dtype = np.float64 )\n",
    "arr3 = np.ones((2,2))\n",
    "arr4 = np.zeros((3,4))\n",
    "arr5 = np.arange(10)\n",
    "arr6 = np.linspace(0, 30, 31)\n",
    "arr7 = np.random.rand(2, 3)\n",
    "arr8 = arr4.reshape(12)\n",
    "arr9 = np.ones_like(arr8)\n",
    "arr10 =np.full(shape= (2, 2, 6), fill_value=8)\n",
    "arr11 =np.eye(N=5) #مصفوفة واحدية \n",
    "\n",
    "print(arr11)\n",
    "desceibe(arr11)"
   ]
  }
 ],
 "metadata": {
  "kernelspec": {
   "display_name": "Python 3",
   "language": "python",
   "name": "python3"
  },
  "language_info": {
   "codemirror_mode": {
    "name": "ipython",
    "version": 3
   },
   "file_extension": ".py",
   "mimetype": "text/x-python",
   "name": "python",
   "nbconvert_exporter": "python",
   "pygments_lexer": "ipython3",
   "version": "3.10.11"
  },
  "orig_nbformat": 4
 },
 "nbformat": 4,
 "nbformat_minor": 2
}
