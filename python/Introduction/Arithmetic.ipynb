{
 "cells": [
  {
   "cell_type": "code",
   "execution_count": null,
   "metadata": {},
   "outputs": [],
   "source": [
    "print(3+4)\n",
    "print(3-4)\n",
    "print(3*4)\n",
    "print(3*4.0)\n",
    "print(3/4)\n",
    "print(3%4)"
   ]
  },
  {
   "cell_type": "code",
   "execution_count": null,
   "metadata": {},
   "outputs": [],
   "source": [
    "# القسمة لاقرب عدد صحيح \n",
    "print(5.7//2)\n",
    "\n",
    "#القوة \n",
    "print(2**3)"
   ]
  }
 ],
 "metadata": {
  "language_info": {
   "name": "python"
  },
  "orig_nbformat": 4
 },
 "nbformat": 4,
 "nbformat_minor": 2
}
