{
 "cells": [
  {
   "cell_type": "code",
   "execution_count": 5,
   "metadata": {},
   "outputs": [
    {
     "name": "stdout",
     "output_type": "stream",
     "text": [
      "{'c', 'b', 'a'}\n",
      "{'d', 'h', 'w', 'r', 'o', 'l', 'e', ' '}\n",
      "{'d', 'h', 'c', 'b', 'a', 'w', 'r', 'o', 'l', 'e', ' '}\n"
     ]
    }
   ],
   "source": [
    "a = {'a' , 'b' , 'c'}\n",
    "b = set(\"hello world \")#يلغي تكرار العناصر \n",
    "\n",
    "print(a)\n",
    "print(b)\n"
   ]
  },
  {
   "cell_type": "code",
   "execution_count": 3,
   "metadata": {},
   "outputs": [
    {
     "ename": "NameError",
     "evalue": "name 'a' is not defined",
     "output_type": "error",
     "traceback": [
      "\u001b[1;31m---------------------------------------------------------------------------\u001b[0m",
      "\u001b[1;31mNameError\u001b[0m                                 Traceback (most recent call last)",
      "Cell \u001b[1;32mIn[3], line 2\u001b[0m\n\u001b[0;32m      1\u001b[0m \u001b[39m#عمليات المجموعات\u001b[39;00m\n\u001b[1;32m----> 2\u001b[0m \u001b[39mprint\u001b[39m(a\u001b[39m|\u001b[39mb)\n\u001b[0;32m      3\u001b[0m \u001b[39m# print(a&b)\u001b[39;00m\n\u001b[0;32m      4\u001b[0m \u001b[39m# print(a-b)\u001b[39;00m\n\u001b[0;32m      5\u001b[0m \u001b[39m# print(b-a)\u001b[39;00m\n\u001b[0;32m      6\u001b[0m \u001b[39m# print(a^b)\u001b[39;00m\n",
      "\u001b[1;31mNameError\u001b[0m: name 'a' is not defined"
     ]
    }
   ],
   "source": [
    "#عمليات المجموعات\n",
    "print(a|b)\n",
    "print(a&b)\n",
    "print(a-b)\n",
    "print(b-a)\n",
    "print(a^b)"
   ]
  }
 ],
 "metadata": {
  "kernelspec": {
   "display_name": "Python 3",
   "language": "python",
   "name": "python3"
  },
  "language_info": {
   "codemirror_mode": {
    "name": "ipython",
    "version": 3
   },
   "file_extension": ".py",
   "mimetype": "text/x-python",
   "name": "python",
   "nbconvert_exporter": "python",
   "pygments_lexer": "ipython3",
   "version": "3.10.11"
  },
  "orig_nbformat": 4
 },
 "nbformat": 4,
 "nbformat_minor": 2
}
