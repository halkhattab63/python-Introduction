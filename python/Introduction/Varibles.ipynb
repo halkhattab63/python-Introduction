{
 "cells": [
  {
   "attachments": {},
   "cell_type": "markdown",
   "metadata": {},
   "source": [
    "floatعدد الاصفار في اعداد ال\n",
    "\n",
    "E وعدد الاصفار هوي العدد بعد ال"
   ]
  },
  {
   "cell_type": "code",
   "execution_count": null,
   "metadata": {},
   "outputs": [],
   "source": [
    "q = 4E3\n",
    "print(q)\n",
    "print(type(q))"
   ]
  },
  {
   "attachments": {},
   "cell_type": "markdown",
   "metadata": {},
   "source": [
    "(الكولكشن)تعريف المصفوفات مع التايب"
   ]
  },
  {
   "cell_type": "code",
   "execution_count": null,
   "metadata": {},
   "outputs": [],
   "source": [
    "Mylist = [1,2,3,4,5]\n",
    "MyTuple = (1,2,3,4,5)\n",
    "MySet = {1,2,3,4,5}\n",
    "MyDictionary= {1:'x', 2:'y', 3:'z'}\n",
    "\n",
    "print(type(Mylist))\n",
    "print(type(MyTuple))\n",
    "print(type(MySet))\n",
    "print(type(MyDictionary))"
   ]
  },
  {
   "cell_type": "code",
   "execution_count": null,
   "metadata": {},
   "outputs": [],
   "source": [
    "print(type([1,2,3,4,5]))\n",
    "print(type((1,2,3,4,5)))\n",
    "print(type({1,2,3,4,5}))"
   ]
  },
  {
   "attachments": {},
   "cell_type": "markdown",
   "metadata": {},
   "source": [
    "type الدالة التي لدينا دالة الانواع"
   ]
  },
  {
   "cell_type": "code",
   "execution_count": null,
   "metadata": {},
   "outputs": [],
   "source": [
    "print(type(45))\n",
    "print(type(4.5))\n",
    "print(type('hxcv'))\n",
    "print(type(True))"
   ]
  }
 ],
 "metadata": {
  "kernelspec": {
   "display_name": "Python 3",
   "language": "python",
   "name": "python3"
  },
  "language_info": {
   "codemirror_mode": {
    "name": "ipython",
    "version": 3
   },
   "file_extension": ".py",
   "mimetype": "text/x-python",
   "name": "python",
   "nbconvert_exporter": "python",
   "pygments_lexer": "ipython3",
   "version": "3.10.11"
  },
  "orig_nbformat": 4
 },
 "nbformat": 4,
 "nbformat_minor": 2
}
