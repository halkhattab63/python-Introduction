{
 "cells": [
  {
   "cell_type": "code",
   "execution_count": null,
   "metadata": {},
   "outputs": [],
   "source": [
    "a = []\n",
    "# a.append(2)\n",
    "# a.append([3,4])\n",
    "# a.append(7)\n",
    "print(a)\n",
    "\n",
    "print(len(a))"
   ]
  },
  {
   "cell_type": "code",
   "execution_count": null,
   "metadata": {},
   "outputs": [],
   "source": [
    "a.extend([2.3,5,2])#تستخدم لاضافة اكثر من غنصر\n",
    "print(a)\n",
    "\n",
    "b = a.copy()\n",
    "print(b)\n"
   ]
  },
  {
   "cell_type": "code",
   "execution_count": 1,
   "metadata": {},
   "outputs": [
    {
     "name": "stdout",
     "output_type": "stream",
     "text": [
      "a reversed : [7, 5, 2]\n",
      "a sorted : [2, 5, 7] \n"
     ]
    },
    {
     "ename": "NameError",
     "evalue": "name 'b' is not defined",
     "output_type": "error",
     "traceback": [
      "\u001b[1;31m---------------------------------------------------------------------------\u001b[0m",
      "\u001b[1;31mNameError\u001b[0m                                 Traceback (most recent call last)",
      "Cell \u001b[1;32mIn[1], line 10\u001b[0m\n\u001b[0;32m      7\u001b[0m \u001b[39mprint\u001b[39m(\u001b[39mf\u001b[39m\u001b[39m'\u001b[39m\u001b[39ma sorted : \u001b[39m\u001b[39m{\u001b[39;00ma\u001b[39m}\u001b[39;00m\u001b[39m \u001b[39m\u001b[39m'\u001b[39m)\n\u001b[0;32m      9\u001b[0m a\u001b[39m.\u001b[39mclear()\n\u001b[1;32m---> 10\u001b[0m \u001b[39mprint\u001b[39m(\u001b[39mf\u001b[39m\u001b[39m'\u001b[39m\u001b[39mb is \u001b[39m\u001b[39m{\u001b[39;00mb\u001b[39m}\u001b[39;00m\u001b[39m having length \u001b[39m\u001b[39m{\u001b[39;00m\u001b[39mlen\u001b[39m(b)\u001b[39m}\u001b[39;00m\u001b[39m'\u001b[39m)\n",
      "\u001b[1;31mNameError\u001b[0m: name 'b' is not defined"
     ]
    }
   ],
   "source": [
    "a = [2,5,7]\n",
    "\n",
    "a.reverse()#عكس عناصر المصفوفة \n",
    "print(f'a reversed : {a}')\n",
    "\n",
    "a.sort()#ترتيب \n",
    "print(f'a sorted : {a} ')\n",
    "\n",
    "a.clear()\n",
    "print(f'b is {b} having length {len(b)}')"
   ]
  },
  {
   "attachments": {},
   "cell_type": "markdown",
   "metadata": {},
   "source": [
    "\n",
    "1\t\n",
    "append(obj)تستخدم لإضافة عنصر جديد في آخر الـlist الذي قام باستدعائها.\n",
    "شاهد المثال »\n",
    "\n",
    "2\t\n",
    "extend(iterable)تستخدم لإضافة عناصر مصفوفة من أي نوع في آخر الـlist الذي قام باستدعائها.\n",
    "شاهد المثال »\n",
    "\n",
    "3\t\n",
    "insert(index, obj)تستخدم لإضافة عنصر جديد في مكان محدد في الـlist الذي قام باستدعائها.\n",
    "شاهد المثال »\n",
    "\n",
    "4\t\n",
    "pop([index])تستخدم لحذف عنصر محدد في الـlist الذي قام باستدعائها, أو لحذف آخر عنصر موجود فيه.\n",
    "شاهد المثال »\n",
    "\n",
    "5\t\n",
    "clear()تستخدم لحذف جميع عناصر الـlist الذي قام باستدعائها.\n",
    "شاهد المثال »\n",
    "\n",
    "6\t\n",
    "copy()ترجع نسخة من الـlist الذي قام باستدعائها.\n",
    "شاهد المثال »\n",
    "\n",
    "7\t\n",
    "count(x)تستخدم للبحث في الـlist الذي قام باستدعائها عن قيمة معينة.\n",
    "ترجع عدد صحيح يمثل كم مرة تم إيجاد عنصر عنده نفس القيمة التي مررناها لها مكان البارميتر x.\n",
    "شاهد المثال »\n",
    "\n",
    "8\t\n",
    "remove(x)تستخدم لحذف أول عنصر يتم إيجاده في الـlist الذي قام باستدعائها يملك نفس القيمة التي نمررها لها مكان البارميتر x.\n",
    "في حال لم يتم العثور على القيمة المراد حذفها ترمي الإستثناء ValueError.\n",
    "شاهد المثال »\n",
    "\n",
    "9\t\n",
    "index(x[, start[, end]])تبحث في الـlist الذي قام باستدعائها عن Index أول عنصر يملك القيمة التي نمرره لها مكان الباراميتر x و ترجعه.\n",
    "في حال لم يتم العثور على القيمة المراد معرفة مكانها ترمي الإستثناء ValueError.\n",
    "شاهد المثال »\n",
    "\n",
    "10\t\n",
    "sort(reverse=False)تستخدم لترتيب عناصر الـlist الذي قام باستدعائها بشكل تصاعدي أو تنازلي.\n",
    "شاهد المثال »\n",
    "\n",
    "11\t\n",
    "reverse(reverse=False)تستخدم لعكس ترتيب عناصر الـlist الذي قام باستدعائها.\n",
    "شاهد المثال »"
   ]
  }
 ],
 "metadata": {
  "kernelspec": {
   "display_name": "Python 3",
   "language": "python",
   "name": "python3"
  },
  "language_info": {
   "codemirror_mode": {
    "name": "ipython",
    "version": 3
   },
   "file_extension": ".py",
   "mimetype": "text/x-python",
   "name": "python",
   "nbconvert_exporter": "python",
   "pygments_lexer": "ipython3",
   "version": "3.10.11"
  },
  "orig_nbformat": 4
 },
 "nbformat": 4,
 "nbformat_minor": 2
}
