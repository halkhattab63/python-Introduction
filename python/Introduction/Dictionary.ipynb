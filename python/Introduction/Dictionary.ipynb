{
 "cells": [
  {
   "cell_type": "code",
   "execution_count": null,
   "metadata": {},
   "outputs": [],
   "source": [
    "#العناصر تكون بشكل مفتاح وقيمة \n",
    "\n",
    "x ={'fName' : 'Hayyan', 'lname' : 'Alkhattab' }\n",
    "print(x['fName']) # مناشر على المفتاح\n",
    "# print(x[0]) #error \n",
    "\n",
    "x['fName'] = 456\n",
    "x['lname'] = 'Hasan'\n",
    "print(x)\n",
    "\n",
    "keys = list(x.keys())\n",
    "print(x.keys())\n",
    "\n",
    "print('keys' + str(sorted(keys)))\n",
    "\n",
    "print('fName' in x )\n",
    "\n",
    "y = {}\n",
    "y = x.copy()\n",
    "print(f'y = {y}')"
   ]
  },
  {
   "cell_type": "code",
   "execution_count": null,
   "metadata": {},
   "outputs": [],
   "source": [
    "x ={'fName' : 'Hayyan', 'lname' : 'Alkhattab' }\n",
    "\n",
    "addr = {}\n",
    "addr['number'] = 123 \n",
    "addr['street'] = \"Elm st\"\n",
    "addr['city'] = \"Athens\"\n",
    "addr['state'] = \"GA\"\n",
    "addr['zip'] = \"30602\"\n",
    "\n",
    "x['addreses'] = addr\n",
    "print(x)\n",
    "\n",
    "x['addreses']['street'] = \"ddddddd\"\n",
    "print(x)"
   ]
  },
  {
   "cell_type": "code",
   "execution_count": 1,
   "metadata": {},
   "outputs": [
    {
     "name": "stdout",
     "output_type": "stream",
     "text": [
      "[1, 2, 3, 4, 5, 6]\n",
      "(1, 2, 3, 4, 5, 6)\n",
      "(1, 2, 3, 4, 5, 6)\n",
      "{1, 2, 3, 4, 5, 6}\n",
      "{'one': 1, 'two': 2, 'three': 3}\n",
      "('one', 'two', 'three')\n",
      "('one', 'two', 'three')\n",
      "(1, 2, 3)\n"
     ]
    }
   ],
   "source": [
    "y = (1,2,3,4,5,6)\n",
    "z = list(y)\n",
    "print(z)\n",
    "print(y)\n",
    "\n",
    "print(tuple(z))\n",
    "print(set(z))\n",
    "\n",
    "q = (('one', 1), ('two',2), ('three', 3))\n",
    "w = dict(q)\n",
    "print(w)\n",
    "print(tuple(w))\n",
    "print(tuple(w.keys()))\n",
    "print(tuple(w.values()))"
   ]
  }
 ],
 "metadata": {
  "kernelspec": {
   "display_name": "Python 3",
   "language": "python",
   "name": "python3"
  },
  "language_info": {
   "codemirror_mode": {
    "name": "ipython",
    "version": 3
   },
   "file_extension": ".py",
   "mimetype": "text/x-python",
   "name": "python",
   "nbconvert_exporter": "python",
   "pygments_lexer": "ipython3",
   "version": "3.10.11"
  },
  "orig_nbformat": 4
 },
 "nbformat": 4,
 "nbformat_minor": 2
}
