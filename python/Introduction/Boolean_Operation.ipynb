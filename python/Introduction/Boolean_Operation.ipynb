{
 "cells": [
  {
   "cell_type": "code",
   "execution_count": 1,
   "metadata": {},
   "outputs": [
    {
     "name": "stdout",
     "output_type": "stream",
     "text": [
      "x = 5\n",
      "y = 2\n",
      "reslt = False\n",
      "x = 2\n",
      "y = 2\n",
      "result = True\n"
     ]
    }
   ],
   "source": [
    "x = 5 \n",
    "y = 2\n",
    "result = x==y \n",
    "\n",
    "print(f'x = {x}')\n",
    "print(f'y = {y}')\n",
    "print(f'reslt = {result}')\n",
    "\n",
    "x = y \n",
    "print(f'x = {x}')\n",
    "print(f'y = {y}')\n",
    "\n",
    "result = (x==y)\n",
    "print(f'result = {result}')"
   ]
  },
  {
   "cell_type": "code",
   "execution_count": null,
   "metadata": {},
   "outputs": [],
   "source": [
    "print(x==y)\n",
    "print(x!=y)\n",
    "print(x is y)\n",
    "print(x is not y)"
   ]
  },
  {
   "cell_type": "code",
   "execution_count": null,
   "metadata": {},
   "outputs": [],
   "source": [
    "print(\"abc\" > \"ac\")\n",
    "print(\"a\" > \"1\") #ascii\n",
    "print(\"A\" > \"a\")\n",
    "print((1,1,3) > (1,2,3))"
   ]
  },
  {
   "cell_type": "code",
   "execution_count": null,
   "metadata": {},
   "outputs": [],
   "source": [
    "x = (1,1,2)\n",
    "y = (1,1,2)\n",
    "\n",
    "print(id(x))\n",
    "print(id(y))\n",
    "\n",
    "#يطلب قيمة المتغيرات متشابهة او لا \n",
    "print(x==y)\n",
    "\n",
    "#يطلب هل العنوان متشابعه وال لا \n",
    "print(x is y )\n",
    "print(x is not y)"
   ]
  },
  {
   "cell_type": "code",
   "execution_count": null,
   "metadata": {},
   "outputs": [],
   "source": [
    "print(5>2 and 4>19 )\n",
    "print(4>2 or 5==3)"
   ]
  },
  {
   "cell_type": "code",
   "execution_count": null,
   "metadata": {},
   "outputs": [],
   "source": [
    "print(1 and True)\n",
    "print(True and 66)\n",
    "print(True and \"aa\")\n",
    "print(False and \"aa\")\n",
    "print(True or {})\n",
    "print(not [])# هون بيعكس النتيجة القوس الفاضي هوي false\n",
    "print(True and ())"
   ]
  }
 ],
 "metadata": {
  "kernelspec": {
   "display_name": "Python 3",
   "language": "python",
   "name": "python3"
  },
  "language_info": {
   "codemirror_mode": {
    "name": "ipython",
    "version": 3
   },
   "file_extension": ".py",
   "mimetype": "text/x-python",
   "name": "python",
   "nbconvert_exporter": "python",
   "pygments_lexer": "ipython3",
   "version": "3.10.11"
  },
  "orig_nbformat": 4
 },
 "nbformat": 4,
 "nbformat_minor": 2
}
