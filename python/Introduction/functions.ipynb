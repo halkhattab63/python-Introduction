{
 "cells": [
  {
   "cell_type": "code",
   "execution_count": null,
   "metadata": {},
   "outputs": [],
   "source": [
    "def fun():\n",
    "  print(\"hello\")\n",
    "  print(\"world!\")\n",
    "\n",
    "print(\"-\"*20)\n",
    "\n",
    "print(\"start\")\n",
    "fun() # لا يمكن للدوال ان تعمل اذا لم يتم استدعائها \n",
    "print(\"end\")"
   ]
  },
  {
   "cell_type": "code",
   "execution_count": null,
   "metadata": {},
   "outputs": [],
   "source": [
    "def fun2(number : int): # يمكن ان نحدد نوع المتغير الذي نريد ان نوصل له القيمة \n",
    "  print(f'Number = {number}')\n",
    "\n",
    "num = 10 \n",
    "fun2(num)\n",
    "\n",
    "fun2(5) #في مثل هذه الدوال حتما علينا ان نمرر قيمة  داخل الدالة "
   ]
  },
  {
   "cell_type": "code",
   "execution_count": null,
   "metadata": {},
   "outputs": [],
   "source": [
    "def fun3(): # هذه الدالة لا تستقبل قيمة لكن ترجع قيمة \n",
    "  return 5 \n",
    "\n",
    "result = fun3() #هذا يعني اننا خزنا قيمة 5 التي هي قيمة الدالة \n",
    "print(result) "
   ]
  },
  {
   "attachments": {},
   "cell_type": "markdown",
   "metadata": {},
   "source": [
    "def def sum(a,b)->int: \n",
    " اذا اردنا تحديد نوع القيمة الراجعة \n",
    " \n",
    " def sum(a: int ,b:int):\n",
    " اذا اردنا تحديد نوع القيمة المدخلة "
   ]
  },
  {
   "cell_type": "code",
   "execution_count": null,
   "metadata": {},
   "outputs": [],
   "source": [
    "def sum(a,b): # هذه الدالة تستقبل قيمة وترجع قيمة \n",
    "  return a+b \n",
    "\n",
    "result = sum(3,4)\n",
    "print(result) "
   ]
  },
  {
   "cell_type": "code",
   "execution_count": null,
   "metadata": {},
   "outputs": [],
   "source": [
    "def f1(a, b, c):\n",
    "  print(a+b+c)\n",
    "f1(1,2,3)\n",
    "\n",
    "# اذا اردنا ان نعطي قيم افتراضية كي لا يحدث اخطاء عندما ننسى ان نمرر قيمة \n",
    "def f1(a = 1, b = 2 , c = 3):\n",
    "  print(a+b+c)\n",
    "f1()\n",
    "f1(4)\n",
    "f1(1,3)\n",
    "f1(0,7,5)\n",
    "f1(b = 59, c = 0)"
   ]
  },
  {
   "cell_type": "code",
   "execution_count": null,
   "metadata": {},
   "outputs": [],
   "source": [
    "def f2(e, mylist= []):\n",
    "  mylist.append(e)\n",
    "  print(mylist)\n",
    "\n",
    "f2(5)\n",
    "f2(4 , [1,3,4])"
   ]
  },
  {
   "cell_type": "code",
   "execution_count": null,
   "metadata": {},
   "outputs": [],
   "source": [
    "def f1(a = 1, b = 2 , c = 3, *nums):# عندما نضع النجمة فيمكن ان يكون اي عدد من المتغيرات \n",
    "  print(nums)\n",
    "  print(a+b+c)\n",
    "f1()\n",
    "f1(4)\n",
    "f1(1,3)\n",
    "f1(0,7,5)\n",
    "f1(b = 59, c = 0)\n",
    "f1(4,5,6 ,1,2,35,7,9,8)"
   ]
  }
 ],
 "metadata": {
  "language_info": {
   "name": "python"
  },
  "orig_nbformat": 4
 },
 "nbformat": 4,
 "nbformat_minor": 2
}
