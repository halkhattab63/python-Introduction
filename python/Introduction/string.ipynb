{
 "cells": [
  {
   "cell_type": "code",
   "execution_count": null,
   "metadata": {},
   "outputs": [],
   "source": [
    "name = 'hayyan' + 'ALkhattab'\n",
    "print(name)\n",
    "print(type(name))\n",
    "\n",
    "name = 'hayyan', 'Allhattab'\n",
    "print(name)\n",
    "print(type(name))\n"
   ]
  },
  {
   "cell_type": "code",
   "execution_count": null,
   "metadata": {},
   "outputs": [],
   "source": [
    "s = 'Hassan \\n Fulaih'\n",
    "print(s)\n",
    "\n",
    "s = 'Hassan \\t Fulaih'\n",
    "print(s)\n",
    "\n",
    "s = r'Hassan \\n Fulaih' #raw string\n",
    "print(s)"
   ]
  },
  {
   "cell_type": "code",
   "execution_count": null,
   "metadata": {},
   "outputs": [],
   "source": [
    "x = 5 \n",
    "y = 30 \n",
    "\n",
    "print(f'The x is equal to : {x}\\nand the y equal to : {y}')"
   ]
  },
  {
   "cell_type": "code",
   "execution_count": null,
   "metadata": {},
   "outputs": [],
   "source": [
    "s = 'fly'\n",
    "print(s[1]+ s[0])"
   ]
  },
  {
   "cell_type": "code",
   "execution_count": null,
   "metadata": {},
   "outputs": [],
   "source": [
    "str1 = 'this is the way the world ends'\n",
    "\n",
    "print(str1[12])\n",
    "print(str1[0:4])\n",
    "print(str1[5:])\n",
    "print(str1[:4])\n",
    "print(str1[-1])\n",
    "print(str1[-5:-1])\n",
    "print(str1[-5:])"
   ]
  }
 ],
 "metadata": {
  "kernelspec": {
   "display_name": "Python 3",
   "language": "python",
   "name": "python3"
  },
  "language_info": {
   "codemirror_mode": {
    "name": "ipython",
    "version": 3
   },
   "file_extension": ".py",
   "mimetype": "text/x-python",
   "name": "python",
   "nbconvert_exporter": "python",
   "pygments_lexer": "ipython3",
   "version": "3.10.11"
  },
  "orig_nbformat": 4
 },
 "nbformat": 4,
 "nbformat_minor": 2
}
