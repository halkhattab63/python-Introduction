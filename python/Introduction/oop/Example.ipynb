{
 "cells": [
  {
   "cell_type": "code",
   "execution_count": null,
   "metadata": {},
   "outputs": [],
   "source": [
    "Students = {}\n",
    "\n",
    "class Person():\n",
    "  def __init__(self, name, age, gender, address, city):\n",
    "    self.name= name \n",
    "    self.age = age \n",
    "    self.gender = gender \n",
    "    self.address = address \n",
    "    self.city = city \n",
    "  \n",
    "  def print_info(self):\n",
    "    return {\n",
    "        'name' : self.name,\n",
    "        'age' : self.age,\n",
    "        'gender' :  self.gender,\n",
    "        'address' : self.address,\n",
    "        'city' : self.city\n",
    "        }\n",
    "\n",
    "  \n",
    "class Student(Person):\n",
    "  def __init__(self, name, age, gender, address, city, grade ):\n",
    "    super().__init__(name, age, gender, address, city )\n",
    "    self.grade = grade\n",
    "\n",
    "  def evaluation(self):\n",
    "    print('\\n',self.grade,'\\n')\n",
    "    mean = sum(self.grade.values())/len(self.grade.values())\n",
    "    return mean \n",
    "  "
   ]
  },
  {
   "cell_type": "code",
   "execution_count": 1,
   "metadata": {},
   "outputs": [
    {
     "name": "stdout",
     "output_type": "stream",
     "text": [
      "this is a 1 stident : \n",
      "------------------------->\n"
     ]
    },
    {
     "ename": "",
     "evalue": "",
     "output_type": "error",
     "traceback": [
      "\u001b[1;31mCannot execute code, session has been disposed. Please try restarting the Kernel."
     ]
    },
    {
     "ename": "",
     "evalue": "",
     "output_type": "error",
     "traceback": [
      "\u001b[1;31mThe Kernel crashed while executing code in the the current cell or a previous cell. Please review the code in the cell(s) to identify a possible cause of the failure. Click <a href='https://aka.ms/vscodeJupyterKernelCrash'>here</a> for more info. View Jupyter <a href='command:jupyter.viewOutput'>log</a> for further details."
     ]
    }
   ],
   "source": [
    "i = 0 \n",
    "while True : \n",
    "  i += 1 \n",
    "  print(f'this is a {i} stident : \\n------------------------->')\n",
    "  student_name = input(f'\\n Enter the name of the Student : ')\n",
    "  student_age = input(f'\\n Enter the age of the Student : ')\n",
    "  student_gender = input(f'\\n Enter the gender of the Student : ')\n",
    "  student_address = input(f'\\n Enter the address of the Student : ')\n",
    "  student_city = input(f'\\n Enter the city of the Student : ')\n",
    "  math = input(f'\\n Enter the math degree of the Student : ')\n",
    "  science = input(f'\\n Enter the science degree of the Student : ')\n",
    "  english = input(f'\\n Enter the english degree of the Student : ')\n",
    "\n",
    "  student1 = Student( student_name, student_age, student_gender,\n",
    "                        student_address, student_city,\n",
    "                       {\n",
    "                           'math':float(math) , 'science' : float(science), 'english':float(english)\n",
    "                       } )\n",
    "  print('\\n')\n",
    "  student1.print_info()\n",
    "  mean = student1.evaluation()\n",
    "  print(f'\\n mean = {mean}') \n",
    "\n",
    "  end = input('\\n if you finish your input enter end :')\n",
    "  if end == 'end': \n",
    "    break \n",
    "  print('*'*50)"
   ]
  }
 ],
 "metadata": {
  "kernelspec": {
   "display_name": "Python 3",
   "language": "python",
   "name": "python3"
  },
  "language_info": {
   "codemirror_mode": {
    "name": "ipython",
    "version": 3
   },
   "file_extension": ".py",
   "mimetype": "text/x-python",
   "name": "python",
   "nbconvert_exporter": "python",
   "pygments_lexer": "ipython3",
   "version": "3.10.11"
  },
  "orig_nbformat": 4
 },
 "nbformat": 4,
 "nbformat_minor": 2
}
