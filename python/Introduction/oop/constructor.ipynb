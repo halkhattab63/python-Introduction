{
 "cells": [
  {
   "cell_type": "code",
   "execution_count": null,
   "metadata": {},
   "outputs": [],
   "source": [
    "class Person():\n",
    "  def __init__(self, name, age):\n",
    "    self.name = name \n",
    "    self.age = age     \n",
    "  \n",
    "  def fun(self):\n",
    "    print(f'Name = {self.name}')\n",
    "    print(f'age = {self.age}')\n",
    "\n",
    "p1 = Person('Hayyan',22)\n",
    "p1.fun()"
   ]
  }
 ],
 "metadata": {
  "language_info": {
   "name": "python"
  },
  "orig_nbformat": 4
 },
 "nbformat": 4,
 "nbformat_minor": 2
}
