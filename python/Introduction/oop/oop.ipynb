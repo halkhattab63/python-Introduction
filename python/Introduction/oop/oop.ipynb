{
 "cells": [
  {
   "cell_type": "code",
   "execution_count": null,
   "metadata": {},
   "outputs": [],
   "source": [
    "class Human():\n",
    "  age = 20 \n",
    "  name = 'hayyan'\n",
    "  def fun(self):\n",
    "    age = self.age +5\n",
    "    print(f'Age = {age}')\n",
    "\n",
    "obj = Human()\n",
    "\n",
    "print(obj.name)\n",
    "\n",
    "obj.fun()"
   ]
  },
  {
   "cell_type": "code",
   "execution_count": null,
   "metadata": {},
   "outputs": [],
   "source": [
    "p1 = Human()\n",
    "p1.name = 'dudu'\n",
    "p1.age = 33\n",
    "print(p1.name)\n",
    "print(p1.age)\n",
    "p1.fun()\n",
    "\n",
    "print(\"-\"*20)\n",
    "\n",
    "p2 = Human()\n",
    "p2.name = 'hayya'\n",
    "p2.age = 33\n",
    "print(p2.name)\n",
    "print(p2.age)\n",
    "p2.fun()"
   ]
  }
 ],
 "metadata": {
  "language_info": {
   "name": "python"
  },
  "orig_nbformat": 4
 },
 "nbformat": 4,
 "nbformat_minor": 2
}
