{
 "cells": [
  {
   "cell_type": "code",
   "execution_count": null,
   "metadata": {},
   "outputs": [],
   "source": [
    "def f1():\n",
    "  print(5)\n",
    "\n",
    "def f2():\n",
    "  return 5\n",
    "\n",
    "def f3(a):\n",
    "  print(a)\n",
    "\n",
    "def f4(a,b):\n",
    "  return (a+5)*b\n",
    "  \n",
    "\n",
    "l1 = lambda :print(5)\n",
    "l2 = lambda : 5\n",
    "l3 = lambda a:print(a) \n",
    "l4 = lambda a,b : (a+5)*b\n",
    "\n",
    "f3(9)\n",
    "l3(9)\n",
    "\n",
    "print(f4(2,4))\n",
    "l4(2,4)\n"
   ]
  },
  {
   "cell_type": "code",
   "execution_count": null,
   "metadata": {},
   "outputs": [],
   "source": [
    "def f5(a):\n",
    "  x = lambda b : b**a\n",
    "  return x\n",
    "\n",
    "sq = f5(2)\n",
    "print(sq(3))\n",
    "\n",
    "cu = f5(3)\n",
    "print(cu(4))\n"
   ]
  }
 ],
 "metadata": {
  "language_info": {
   "name": "python"
  },
  "orig_nbformat": 4
 },
 "nbformat": 4,
 "nbformat_minor": 2
}
